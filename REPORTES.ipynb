{
  "nbformat": 4,
  "nbformat_minor": 0,
  "metadata": {
    "colab": {
      "provenance": [],
      "mount_file_id": "16jG49Lb1Wl62YddoW1fq6LT07WObraqy",
      "authorship_tag": "ABX9TyP54e958Tz8V4WP1ZFIm4rW",
      "include_colab_link": true
    },
    "kernelspec": {
      "name": "python3",
      "display_name": "Python 3"
    },
    "language_info": {
      "name": "python"
    }
  },
  "cells": [
    {
      "cell_type": "markdown",
      "metadata": {
        "id": "view-in-github",
        "colab_type": "text"
      },
      "source": [
        "<a href=\"https://colab.research.google.com/github/Estefany66/Ciencia-de-Datos/blob/main/REPORTES.ipynb\" target=\"_parent\"><img src=\"https://colab.research.google.com/assets/colab-badge.svg\" alt=\"Open In Colab\"/></a>"
      ]
    },
    {
      "cell_type": "code",
      "execution_count": 2,
      "metadata": {
        "colab": {
          "base_uri": "https://localhost:8080/"
        },
        "id": "j-JGbtl1lmcD",
        "outputId": "58169103-9be3-46b7-d708-2aaa9565a620"
      },
      "outputs": [
        {
          "output_type": "stream",
          "name": "stdout",
          "text": [
            "Collecting squarify\n",
            "  Downloading squarify-0.4.3-py3-none-any.whl (4.3 kB)\n",
            "Installing collected packages: squarify\n",
            "Successfully installed squarify-0.4.3\n"
          ]
        }
      ],
      "source": [
        "# Librerías utilizadas\n",
        "!pip install squarify\n",
        "\n",
        "# Librerías para el manejo de directorios\n",
        "import os\n",
        "import glob\n",
        "from pathlib import Path\n",
        "\n",
        "import numpy as np\n",
        "import pandas as pd\n",
        "\n",
        "# Librerías para graficar\n",
        "import matplotlib.pyplot as plt\n",
        "import seaborn as sns\n",
        "import altair as alt\n",
        "import squarify\n",
        "\n",
        "%matplotlib inline"
      ]
    },
    {
      "cell_type": "code",
      "source": [
        "# Carga de datos\n",
        "\n",
        "BASE_DIR = Path.cwd()\n",
        "BASE_DIR\n",
        "df_ventas= pd.read_excel('//content/drive/MyDrive/DATA OPTICA SAN FRANCISCO /Producto_Venta.xlsx')\n",
        "\n",
        "df_stock = pd.read_excel('///content/drive/MyDrive/DATA OPTICA SAN FRANCISCO /Producto_Stock.xlsx')\n",
        "\n",
        "df_ventas_linea_prod = df_ventas.query('fecha > \"2022-08-01\"').loc[:,['fecha_comp', 'cod', 'producto', 'cantidad', 'monto_soles']]\n",
        "df_ventas_linea_prod = pd.merge(df_ventas_linea_prod, df_stock, on=['cod', 'producto'], how='outer')"
      ],
      "metadata": {
        "id": "GUNvsiTFmbVg"
      },
      "execution_count": 7,
      "outputs": []
    },
    {
      "cell_type": "code",
      "source": [
        "# Estilo y colores para los gráficos\n",
        "\n",
        "plt.style.use('seaborn-colorblind')\n",
        "plt.rcParams['lines.linewidth'] = 1.5\n",
        "\n",
        "VERDE = '#39894d'\n",
        "AZUL = '#2649e8'\n",
        "AMARILLO = '#f1d065'\n",
        "\n",
        "# Funciones generales\n",
        "\n",
        "# Formateado de texto\n",
        "def formato_titulo(texto):\n",
        "    subray = '=' * (len(texto))\n",
        "    print(\"\\033[1;32m\"+texto)\n",
        "    print(subray)\n",
        "    print(\"\\033[0;m\")"
      ],
      "metadata": {
        "colab": {
          "base_uri": "https://localhost:8080/"
        },
        "id": "xUpZ8j5xnn6G",
        "outputId": "e3e9e164-0a85-4863-f1b8-be7015ace68f"
      },
      "execution_count": 8,
      "outputs": [
        {
          "output_type": "stream",
          "name": "stderr",
          "text": [
            "<ipython-input-8-05e5a8c5b220>:3: MatplotlibDeprecationWarning: The seaborn styles shipped by Matplotlib are deprecated since 3.6, as they no longer correspond to the styles shipped by seaborn. However, they will remain available as 'seaborn-v0_8-<style>'. Alternatively, directly use the seaborn API instead.\n",
            "  plt.style.use('seaborn-colorblind')\n"
          ]
        }
      ]
    },
    {
      "cell_type": "code",
      "source": [
        "# Funciones para crear gráficos de Altair\n",
        "\n",
        "\n",
        "# graf_barras_ventas_dol\n",
        "# Crea un gráfico de barras de ventas en $ en función de diferentes\n",
        "# intervalos de tiempo\n",
        "#\n",
        "# Parámetros:\n",
        "#     df: DataFrame a utilizar\n",
        "#     x: Datos para el eje de las x. Generalmente es el intervalo de tiempo\n",
        "#     tooltip: Lista con los parámetros del tooltip\n",
        "#     titulo: Título del gráfico\n",
        "#     dx: Entero para ajustar horizontalmente la posición del texto sobre las barras\n",
        "def graf_barras_ventas_dol(df, x, tooltip, titulo, dx):\n",
        "\n",
        "\n",
        "    barras = alt.Chart(df).mark_bar().encode(\n",
        "                    x=x,\n",
        "                    y=alt.Y('sum(monto_soles):Q', title = 'Ventas en S/.', scale=alt.Scale(zero=False),\n",
        "                      axis = alt.Axis(grid=True, titleAnchor='middle', titleAngle = 270, labelFontSize=10)),\n",
        "                    color=alt.Color(\n",
        "                        'sum(monto_soles):Q', scale=alt.Scale(scheme='goldgreen'),\n",
        "                        legend=alt.Legend(title=\"Ventas en S/.\")),\n",
        "                    tooltip=tooltip,\n",
        "                    ).properties(title=titulo,\n",
        "                             width=800,\n",
        "                             height=300\n",
        "                    )\n",
        "\n",
        "    textos = barras.mark_text(dx=dx, dy=-10, fill='black').encode(\n",
        "             text = alt.Text('sum(monto_soles):Q', format=',.5', title = 'Ventas en S/.')\n",
        "                    )\n",
        "\n",
        "    grafico_final = barras + textos\n",
        "\n",
        "    return grafico_final\n",
        "\n",
        "# graf_sectores_linea\n",
        "# Crea un gráfico de sectores de las líneas de productos\n",
        "#\n",
        "# Parámetros:\n",
        "#     df: DataFrame a utilizar\n",
        "#     theta: Datos que se van a graficar\n",
        "#     texto: Texto que se mostrará en el cada sector del gráfico\n",
        "#     titulo: Título del gráfico\n",
        "def graf_sectores_linea(df, theta, texto, titulo):\n",
        "\n",
        "    base = alt.Chart(df).encode(\n",
        "        theta=theta,\n",
        "        color=alt.Color(\"linea:N\"),\n",
        "        tooltip=[alt.Tooltip('linea:N', title='Línea de Producto'),\n",
        "                 alt.Tooltip('sum(monto_soles):Q', format='$,.5', title='Ventas en S/.'),\n",
        "                 alt.Tooltip('sum(cantidad):Q', format=',.5', title='Volumen de Ventas')]\n",
        "    ).properties(title=titulo)\n",
        "\n",
        "    pie = base.mark_arc(outerRadius=130, innerRadius=40)\n",
        "\n",
        "    text = base.mark_text(radius=110, size=10, fill='black').encode(\n",
        "           text=texto\n",
        "           )\n",
        "\n",
        "    grafico = pie + text\n",
        "\n",
        "    return grafico"
      ],
      "metadata": {
        "id": "pywPtlUon04s"
      },
      "execution_count": 9,
      "outputs": []
    },
    {
      "cell_type": "code",
      "source": [
        "# Agrupar por 'fecha' y sumar la columna 'monto_dolar'\n",
        "df_ventas_sol = df_ventas.groupby('fecha')['monto_soles'].sum().reset_index()\n",
        "\n",
        "# Convertir la columna 'fecha' a tipo datetime\n",
        "df_ventas_sol['fecha'] = pd.to_datetime(df_ventas_sol['fecha'])\n",
        "\n",
        "# Calcular estadísticas adicionales\n",
        "total_dias = df_ventas_sol['fecha'].nunique()\n",
        "num_meses = df_ventas_sol['fecha'].dt.strftime('%m-%Y').nunique()\n",
        "max_ventas = df_ventas_sol['monto_soles'].max()\n"
      ],
      "metadata": {
        "colab": {
          "base_uri": "https://localhost:8080/"
        },
        "id": "rbjmsyH-pQxC",
        "outputId": "0b6ba8e9-7f88-420b-80aa-897b50c0c83a"
      },
      "execution_count": 14,
      "outputs": [
        {
          "output_type": "stream",
          "name": "stderr",
          "text": [
            "<ipython-input-14-12b2dfd99c69>:5: UserWarning: Parsing dates in DD/MM/YYYY format when dayfirst=False (the default) was specified. This may lead to inconsistently parsed dates! Specify a format to ensure consistent parsing.\n",
            "  df_ventas_sol['fecha'] = pd.to_datetime(df_ventas_sol['fecha'])\n"
          ]
        }
      ]
    },
    {
      "cell_type": "code",
      "source": [
        "# Agrupar por 'fecha' y sumar la columna 'monto_dolar'\n",
        "df_ventas_sol = df_ventas.groupby('fecha')['monto_soles'].sum().reset_index()\n",
        "\n",
        "# Convertir la columna 'fecha' a tipo datetime\n",
        "df_ventas_sol['fecha'] = pd.to_datetime(df_ventas_sol['fecha'], errors='coerce')\n",
        "\n",
        "# Filtrar filas con fechas no válidas (si es necesario)\n",
        "df_ventas_sol = df_ventas_sol.dropna(subset=['fecha'])\n",
        "\n",
        "# Calcular estadísticas adicionales\n",
        "total_dias = df_ventas_sol['fecha'].nunique()\n",
        "num_meses = df_ventas_sol['fecha'].dt.strftime('%m-%Y').nunique()\n",
        "max_ventas = df_ventas_sol['monto_soles'].max()\n"
      ],
      "metadata": {
        "colab": {
          "base_uri": "https://localhost:8080/"
        },
        "id": "5x-GTKQSp3GW",
        "outputId": "9d82b59d-e47e-4954-8ab5-3156b43f01b5"
      },
      "execution_count": 16,
      "outputs": [
        {
          "output_type": "stream",
          "name": "stderr",
          "text": [
            "<ipython-input-16-f460a5e06fef>:5: UserWarning: Parsing dates in DD/MM/YYYY format when dayfirst=False (the default) was specified. This may lead to inconsistently parsed dates! Specify a format to ensure consistent parsing.\n",
            "  df_ventas_sol['fecha'] = pd.to_datetime(df_ventas_sol['fecha'], errors='coerce')\n"
          ]
        }
      ]
    },
    {
      "cell_type": "code",
      "source": [
        "# Agrupar por 'fecha' y sumar la columna 'monto_dolar'\n",
        "df_ventas_sol = df_ventas.groupby('fecha')['monto_soles'].sum().reset_index()\n",
        "\n",
        "# Convertir la columna 'fecha' a tipo datetime\n",
        "df_ventas_sol['fecha'] = pd.to_datetime(df_ventas_sol['fecha'], errors='coerce')\n",
        "\n",
        "# Filtrar filas con fechas no válidas (si es necesario)\n",
        "df_ventas_sol = df_ventas_sol.dropna(subset=['fecha'])\n",
        "\n",
        "# Calcular el número de meses\n",
        "num_meses = df_ventas_sol['fecha'].dt.strftime('%m-%Y').nunique()\n"
      ],
      "metadata": {
        "colab": {
          "base_uri": "https://localhost:8080/"
        },
        "id": "wNdw3KNcqLId",
        "outputId": "b8a5c233-d477-4127-8a39-1ac417a213e2"
      },
      "execution_count": 19,
      "outputs": [
        {
          "output_type": "stream",
          "name": "stderr",
          "text": [
            "<ipython-input-19-a4919d13a6a7>:5: UserWarning: Parsing dates in DD/MM/YYYY format when dayfirst=False (the default) was specified. This may lead to inconsistently parsed dates! Specify a format to ensure consistent parsing.\n",
            "  df_ventas_sol['fecha'] = pd.to_datetime(df_ventas_sol['fecha'], errors='coerce')\n"
          ]
        }
      ]
    },
    {
      "cell_type": "code",
      "source": [
        "# Resumen General de las Ventas en $\n",
        "\n",
        "# Agrupar por 'fecha' y sumar la columna 'monto_dolar'\n",
        "df_ventas_sol = df_ventas.groupby('fecha_comp')['monto_soles'].sum().reset_index()\n",
        "\n",
        "df_ventas_fecha = df_ventas.pivot_table(index='fecha_comp',\n",
        "                                       aggfunc={'monto_soles': sum,\n",
        "                                                'cantidad': sum,\n",
        "                                                'num': 'nunique'})\n",
        "total_dias = df_ventas_sol['fecha_comp'].nunique()\n",
        "num_meses = df_ventas_sol['fecha_comp'].nunique()\n",
        "max_ventas = df_ventas_sol['monto_soles'].max()\n",
        "\n",
        "\n",
        "total_ventas_sol = df_ventas_sol.monto_soles.sum()\n",
        "total_faturas = df_ventas_fecha.num.sum()\n",
        "promedio_diario =  total_ventas_sol / total_dias\n",
        "promedio_mensual = total_ventas_sol / num_meses\n",
        "\n",
        "formato_titulo('Resumen General de las Ventas en $')\n",
        "\n",
        "print('El total de ventas en $ del período es:', round(total_ventas_sol, 2))\n",
        "print('El N° de Facturas emitidas durante el período es:', round(total_faturas, 2))\n",
        "print('El promedio mensual de ventas en $ es:', round(promedio_mensual, 2))\n",
        "print('El promedio diario es:', round(promedio_diario, 2))"
      ],
      "metadata": {
        "colab": {
          "base_uri": "https://localhost:8080/"
        },
        "id": "grzzq1Q0qRIz",
        "outputId": "7a9e409e-49df-40fa-e88e-065bf3f8723d"
      },
      "execution_count": 37,
      "outputs": [
        {
          "output_type": "stream",
          "name": "stdout",
          "text": [
            "\u001b[1;32mResumen General de las Ventas en $\n",
            "==================================\n",
            "\u001b[0;m\n",
            "El total de ventas en $ del período es: 890033.37\n",
            "El N° de Facturas emitidas durante el período es: 4877\n",
            "El promedio mensual de ventas en $ es: 1692.08\n",
            "El promedio diario es: 1692.08\n"
          ]
        }
      ]
    }
  ]
}